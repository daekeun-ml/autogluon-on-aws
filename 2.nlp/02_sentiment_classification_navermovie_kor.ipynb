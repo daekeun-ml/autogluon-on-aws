{
 "cells": [
  {
   "cell_type": "markdown",
   "id": "democratic-jackson",
   "metadata": {},
   "source": [
    "# Sentiment Classification for Movie Review Dataset (Korean)\n",
    "\n",
    "본 핸즈온에서는 네이버 영화 리뷰에 대한 감정(0: 부정, 1: 긍정)을 요약한 네이버 영화 리뷰 데이터셋으로 AutoGluon 훈련을 수행합니다."
   ]
  },
  {
   "cell_type": "code",
   "execution_count": 1,
   "id": "ongoing-disco",
   "metadata": {},
   "outputs": [],
   "source": [
    "import numpy as np\n",
    "import warnings\n",
    "import matplotlib.pyplot as plt\n",
    "warnings.filterwarnings('ignore')\n",
    "np.random.seed(123)"
   ]
  },
  {
   "cell_type": "markdown",
   "id": "useful-fluid",
   "metadata": {},
   "source": [
    "<br>\n",
    "\n",
    "## 1. Data preparation and Training\n",
    "\n",
    "https://github.com/e9t/nsmc/ 에 공개된 네이버 영화 리뷰 데이터셋을 다운로드합니다.\n",
    "훈련 데이터는 총 15만건이며, 테스트 데이터는 총 5만건입니다."
   ]
  },
  {
   "cell_type": "code",
   "execution_count": 2,
   "id": "massive-republic",
   "metadata": {},
   "outputs": [],
   "source": [
    "save_path = 'ag-02-sentiment-classifcation-kor'\n",
    "!rm -rf $save_path input"
   ]
  },
  {
   "cell_type": "code",
   "execution_count": 3,
   "id": "eligible-moisture",
   "metadata": {},
   "outputs": [
    {
     "name": "stdout",
     "output_type": "stream",
     "text": [
      "--2021-03-18 01:26:24--  https://raw.githubusercontent.com/e9t/nsmc/master/ratings_train.txt\n",
      "Resolving raw.githubusercontent.com (raw.githubusercontent.com)... 185.199.111.133, 185.199.108.133, 185.199.109.133, ...\n",
      "Connecting to raw.githubusercontent.com (raw.githubusercontent.com)|185.199.111.133|:443... connected.\n",
      "HTTP request sent, awaiting response... 200 OK\n",
      "Length: 14628807 (14M) [text/plain]\n",
      "Saving to: ‘./input/ratings_train.txt’\n",
      "\n",
      "ratings_train.txt   100%[===================>]  13.95M  --.-KB/s    in 0.08s   \n",
      "\n",
      "2021-03-18 01:26:25 (180 MB/s) - ‘./input/ratings_train.txt’ saved [14628807/14628807]\n",
      "\n",
      "--2021-03-18 01:26:25--  https://raw.githubusercontent.com/e9t/nsmc/master/ratings_test.txt\n",
      "Resolving raw.githubusercontent.com (raw.githubusercontent.com)... 185.199.110.133, 185.199.111.133, 185.199.108.133, ...\n",
      "Connecting to raw.githubusercontent.com (raw.githubusercontent.com)|185.199.110.133|:443... connected.\n",
      "HTTP request sent, awaiting response... 200 OK\n",
      "Length: 4893335 (4.7M) [text/plain]\n",
      "Saving to: ‘./input/ratings_test.txt’\n",
      "\n",
      "ratings_test.txt    100%[===================>]   4.67M  --.-KB/s    in 0.04s   \n",
      "\n",
      "2021-03-18 01:26:25 (122 MB/s) - ‘./input/ratings_test.txt’ saved [4893335/4893335]\n",
      "\n"
     ]
    }
   ],
   "source": [
    "!wget -nc https://raw.githubusercontent.com/e9t/nsmc/master/ratings_train.txt -P ./input/\n",
    "!wget -nc https://raw.githubusercontent.com/e9t/nsmc/master/ratings_test.txt -P ./input/"
   ]
  },
  {
   "cell_type": "code",
   "execution_count": 4,
   "id": "surrounded-realtor",
   "metadata": {},
   "outputs": [],
   "source": [
    "import pandas as pd\n",
    "import numpy as np\n",
    "\n",
    "train_df = pd.read_csv('./input/ratings_train.txt', header=0, delimiter='\\t')\n",
    "test_df = pd.read_csv('./input/ratings_test.txt', header=0, delimiter='\\t')\n",
    "train_df = train_df[['document', 'label']]\n",
    "test_df = test_df[['document', 'label']]"
   ]
  },
  {
   "cell_type": "code",
   "execution_count": 5,
   "id": "little-domain",
   "metadata": {},
   "outputs": [
    {
     "data": {
      "text/html": [
       "<div>\n",
       "<style scoped>\n",
       "    .dataframe tbody tr th:only-of-type {\n",
       "        vertical-align: middle;\n",
       "    }\n",
       "\n",
       "    .dataframe tbody tr th {\n",
       "        vertical-align: top;\n",
       "    }\n",
       "\n",
       "    .dataframe thead th {\n",
       "        text-align: right;\n",
       "    }\n",
       "</style>\n",
       "<table border=\"1\" class=\"dataframe\">\n",
       "  <thead>\n",
       "    <tr style=\"text-align: right;\">\n",
       "      <th></th>\n",
       "      <th>document</th>\n",
       "      <th>label</th>\n",
       "    </tr>\n",
       "  </thead>\n",
       "  <tbody>\n",
       "    <tr>\n",
       "      <th>16269</th>\n",
       "      <td>가벼우면서도 보여줄건 다 보여주는 성실함.</td>\n",
       "      <td>1</td>\n",
       "    </tr>\n",
       "    <tr>\n",
       "      <th>140471</th>\n",
       "      <td>겁나재밌어...ㅋㅋ아는내용그대로나와도보게되긴함..시청률이떨어지고있지만 트로트의연인 ...</td>\n",
       "      <td>1</td>\n",
       "    </tr>\n",
       "    <tr>\n",
       "      <th>78683</th>\n",
       "      <td>젊은시절 이소룡의 광팬이 되어 개봉작마다 개봉 첫날에 영화보기 위해 줄서서 기다렸던...</td>\n",
       "      <td>1</td>\n",
       "    </tr>\n",
       "    <tr>\n",
       "      <th>2605</th>\n",
       "      <td>최악...감동도없고 ....대놓고범죄..ㅡㅡ말도안돼는영화</td>\n",
       "      <td>0</td>\n",
       "    </tr>\n",
       "    <tr>\n",
       "      <th>81156</th>\n",
       "      <td>어머니에게 감사드려요ㅜㅜ</td>\n",
       "      <td>1</td>\n",
       "    </tr>\n",
       "  </tbody>\n",
       "</table>\n",
       "</div>"
      ],
      "text/plain": [
       "                                                 document  label\n",
       "16269                             가벼우면서도 보여줄건 다 보여주는 성실함.      1\n",
       "140471  겁나재밌어...ㅋㅋ아는내용그대로나와도보게되긴함..시청률이떨어지고있지만 트로트의연인 ...      1\n",
       "78683   젊은시절 이소룡의 광팬이 되어 개봉작마다 개봉 첫날에 영화보기 위해 줄서서 기다렸던...      1\n",
       "2605                      최악...감동도없고 ....대놓고범죄..ㅡㅡ말도안돼는영화      0\n",
       "81156                                       어머니에게 감사드려요ㅜㅜ      1"
      ]
     },
     "execution_count": 5,
     "metadata": {},
     "output_type": "execute_result"
    }
   ],
   "source": [
    "from autogluon.tabular import TabularDataset, TabularPredictor\n",
    "train_data = TabularDataset(train_df)\n",
    "test_data = TabularDataset(test_df)\n",
    "\n",
    "subsample_size = 1000  # subsample data for faster demo, try setting this to larger values\n",
    "train_data = train_data.sample(n=subsample_size, random_state=0)\n",
    "test_data = test_data.sample(n=subsample_size, random_state=0)\n",
    "train_data.head(5)"
   ]
  },
  {
   "cell_type": "markdown",
   "id": "bright-anthony",
   "metadata": {},
   "source": [
    "간단한 전처리를 수행합니다. 특수 문자와 한글 외 문자들을 제거하고 중복값 및 결측값을 제외합니다."
   ]
  },
  {
   "cell_type": "code",
   "execution_count": 6,
   "id": "historic-actress",
   "metadata": {},
   "outputs": [],
   "source": [
    "def basic_preprocess(data):\n",
    "    data.drop_duplicates(subset = ['document'], inplace=True)\n",
    "    data['document'] = data['document'].str.replace(\"[^ㄱ-ㅎㅏ-ㅣ가-힣 ]\",\"\")\n",
    "    #data['document'] = data['document'].str.replace(\"[\\,\\(\\)\\{\\}\\[\\]\\`\\'\\!\\?\\:\\;\\-\\=]\", \" \") # 특수문자 제거만 사용\n",
    "    data = data.dropna(how='any')\n",
    "    return data"
   ]
  },
  {
   "cell_type": "code",
   "execution_count": 7,
   "id": "contained-commons",
   "metadata": {},
   "outputs": [],
   "source": [
    "train_data = basic_preprocess(train_data)\n",
    "test_data = basic_preprocess(test_data)"
   ]
  },
  {
   "cell_type": "markdown",
   "id": "changing-recall",
   "metadata": {},
   "source": [
    "훈련 지정 시 좀 더 세부적인 하이퍼파라메터 설정이 필요하다면, 사전 정의된 preset을 사용하시면 편리합니다. TextPredictor는 사전 훈련된 BERT, RoBERT, ELECTRA가 내장되어 있으며, 한국어를 비롯한 다국어에 대한 훈련이 필요하면 `multi_cased_bert_base_fuse_late` preset을 사용하시면 됩니다."
   ]
  },
  {
   "cell_type": "code",
   "execution_count": 8,
   "id": "monthly-justice",
   "metadata": {},
   "outputs": [
    {
     "data": {
      "text/plain": [
       "{'simple_presets': ['default',\n",
       "  'lower_quality_fast_train',\n",
       "  'medium_quality_faster_train',\n",
       "  'best_quality'],\n",
       " 'advanced_presets': ['electra_small_fuse_late',\n",
       "  'electra_base_fuse_late',\n",
       "  'electra_large_fuse_late',\n",
       "  'roberta_base_fuse_late',\n",
       "  'multi_cased_bert_base_fuse_late',\n",
       "  'electra_base_fuse_early',\n",
       "  'electra_base_all_text']}"
      ]
     },
     "execution_count": 8,
     "metadata": {},
     "output_type": "execute_result"
    }
   ],
   "source": [
    "from autogluon.text import ag_text_presets, list_presets\n",
    "list_presets()"
   ]
  },
  {
   "cell_type": "code",
   "execution_count": 9,
   "id": "useful-custom",
   "metadata": {},
   "outputs": [
    {
     "name": "stderr",
     "output_type": "stream",
     "text": [
      "Problem Type=\"binary\"\n",
      "Column Types:\n",
      "   - \"document\": text\n",
      "   - \"label\": categorical\n",
      "\n",
      "NumPy-shape semantics has been activated in your code. This is required for creating and manipulating scalar and zero-size tensors, which were not supported in MXNet before, as in the official NumPy library. Please DO NOT manually deactivate this semantics while using `mxnet.numpy` and `mxnet.numpy_extension` modules.\n",
      "The GluonNLP V0 backend is used. We will use 8 cpus and 1 gpus to train each trial.\n"
     ]
    },
    {
     "name": "stdout",
     "output_type": "stream",
     "text": [
      "All Logs will be saved to /home/ec2-user/SageMaker/autogluon-hol/2.nlp/ag-02-sentiment-classifcation-kor/task0/training.log\n"
     ]
    },
    {
     "name": "stderr",
     "output_type": "stream",
     "text": [
      "Fitting and transforming the train data...\n",
      "Done! Preprocessor saved to /home/ec2-user/SageMaker/autogluon-hol/2.nlp/ag-02-sentiment-classifcation-kor/task0/preprocessor.pkl\n",
      "Process dev set...\n",
      "Done!\n",
      "Max length for chunking text: 128, Stochastic chunk: Train-False/Test-False, Test #repeat: 1.\n",
      "#Total Params/Fixed Params=177952258/0\n",
      "Local training results will be saved to /home/ec2-user/SageMaker/autogluon-hol/2.nlp/ag-02-sentiment-classifcation-kor/task0/results_local.jsonl.\n",
      "[Iter 2/70, Epoch 0] valid f1=1.9802e-02, mcc=7.0888e-02, roc_auc=5.8330e-01, accuracy=5.0500e-01, log_loss=8.5891e-01, time spent=0.422s, total time spent=0.14min. Find new best=True, Find new top-3=True\n",
      "[Iter 4/70, Epoch 0] valid f1=6.4865e-01, mcc=1.1147e-01, roc_auc=6.3120e-01, accuracy=5.4500e-01, log_loss=7.8815e-01, time spent=0.398s, total time spent=0.33min. Find new best=True, Find new top-3=True\n",
      "[Iter 6/70, Epoch 0] valid f1=1.7857e-01, mcc=1.6843e-01, roc_auc=6.6790e-01, accuracy=5.4000e-01, log_loss=7.2822e-01, time spent=0.410s, total time spent=0.44min. Find new best=False, Find new top-3=True\n",
      "[Iter 8/70, Epoch 1] valid f1=3.9216e-02, mcc=1.0050e-01, roc_auc=6.7380e-01, accuracy=5.1000e-01, log_loss=7.1558e-01, time spent=0.415s, total time spent=0.61min. Find new best=False, Find new top-3=True\n",
      "[Iter 10/70, Epoch 1] valid f1=6.6667e-01, mcc=0.0000e+00, roc_auc=6.2375e-01, accuracy=5.0000e-01, log_loss=8.7703e-01, time spent=0.400s, total time spent=0.69min. Find new best=False, Find new top-3=False\n",
      "[Iter 12/70, Epoch 1] valid f1=5.6604e-01, mcc=3.3988e-01, roc_auc=7.2865e-01, accuracy=6.5500e-01, log_loss=6.5989e-01, time spent=0.404s, total time spent=1.07min. Find new best=True, Find new top-3=True\n",
      "[Iter 14/70, Epoch 1] valid f1=1.9802e-02, mcc=7.0888e-02, roc_auc=7.2990e-01, accuracy=5.0500e-01, log_loss=6.9894e-01, time spent=0.416s, total time spent=1.15min. Find new best=False, Find new top-3=False\n",
      "[Iter 16/70, Epoch 2] valid f1=6.6667e-01, mcc=0.0000e+00, roc_auc=7.2025e-01, accuracy=5.0000e-01, log_loss=7.3480e-01, time spent=0.406s, total time spent=1.23min. Find new best=False, Find new top-3=False\n",
      "[Iter 18/70, Epoch 2] valid f1=6.6667e-01, mcc=0.0000e+00, roc_auc=7.4740e-01, accuracy=5.0000e-01, log_loss=7.1144e-01, time spent=0.421s, total time spent=1.32min. Find new best=False, Find new top-3=False\n",
      "[Iter 20/70, Epoch 2] valid f1=1.1321e-01, mcc=1.7586e-01, roc_auc=7.4110e-01, accuracy=5.3000e-01, log_loss=6.9729e-01, time spent=0.406s, total time spent=1.40min. Find new best=False, Find new top-3=False\n",
      "[Iter 22/70, Epoch 3] valid f1=9.5238e-02, mcc=1.6013e-01, roc_auc=7.4440e-01, accuracy=5.2500e-01, log_loss=7.3506e-01, time spent=0.408s, total time spent=1.48min. Find new best=False, Find new top-3=False\n",
      "[Iter 24/70, Epoch 3] valid f1=7.0222e-01, mcc=3.4082e-01, roc_auc=7.5220e-01, accuracy=6.6500e-01, log_loss=6.1684e-01, time spent=0.411s, total time spent=1.75min. Find new best=True, Find new top-3=True\n",
      "[Iter 26/70, Epoch 3] valid f1=6.8345e-01, mcc=1.9176e-01, roc_auc=7.3670e-01, accuracy=5.6000e-01, log_loss=7.1123e-01, time spent=0.482s, total time spent=1.93min. Find new best=False, Find new top-3=True\n"
     ]
    },
    {
     "data": {
      "image/png": "[encoded data removed]",
      "text/plain": [
       "<Figure size 432x288 with 1 Axes>"
      ]
     },
     "metadata": {
      "needs_background": "light"
     },
     "output_type": "display_data"
    },
    {
     "name": "stderr",
     "output_type": "stream",
     "text": [
      "Training completed. Auto-saving to \"ag-02-sentiment-classifcation-kor/\". For loading the model, you can use `predictor = TextPredictor.load(\"ag-02-sentiment-classifcation-kor/\")`\n"
     ]
    },
    {
     "data": {
      "text/plain": [
       "<autogluon.text.text_prediction.predictor.predictor.TextPredictor at 0x7f4e38703550>"
      ]
     },
     "execution_count": 9,
     "metadata": {},
     "output_type": "execute_result"
    }
   ],
   "source": [
    "from autogluon.text import TextPredictor\n",
    "\n",
    "predictor = TextPredictor(label='label', eval_metric='acc', path=save_path)\n",
    "predictor.set_verbosity(2)\n",
    "predictor.fit(train_data, presets='multi_cased_bert_base_fuse_late', time_limit=120)"
   ]
  },
  {
   "cell_type": "markdown",
   "id": "coupled-belle",
   "metadata": {},
   "source": [
    "<br>\n",
    "\n",
    "## 2. Evaluation and Prediction"
   ]
  },
  {
   "cell_type": "markdown",
   "id": "above-prospect",
   "metadata": {},
   "source": [
    "### Evaluation\n",
    "\n",
    "`predictor.evaluation()`를 사용하여 평가를 쉽게 수행할 수 있으며, F1 score 등의 추가 metric도 지정 가능합니다."
   ]
  },
  {
   "cell_type": "code",
   "execution_count": 10,
   "id": "compatible-listing",
   "metadata": {},
   "outputs": [
    {
     "name": "stdout",
     "output_type": "stream",
     "text": [
      "{'acc': 0.6796796796796797, 'f1': 0.7014925373134328}\n"
     ]
    }
   ],
   "source": [
    "test_score = predictor.evaluate(test_data, metrics=['acc', 'f1'])\n",
    "print(test_score)"
   ]
  },
  {
   "cell_type": "markdown",
   "id": "royal-simulation",
   "metadata": {},
   "source": [
    "### Prediction\n",
    "`predictor.predict()`으로 예측을 수행할 수 있습니다."
   ]
  },
  {
   "cell_type": "code",
   "execution_count": 34,
   "id": "played-rouge",
   "metadata": {},
   "outputs": [
    {
     "name": "stdout",
     "output_type": "stream",
     "text": [
      "\"Sentence\": 이 영화 너무너무 재미있어요. 인생 최고의 영화입니다. 최고! \"Predicted Sentiment\": 1\n",
      "\"Sentence\": 평점 1점도 아깝습니다..비추 \"Predicted Sentiment\": 0\n"
     ]
    }
   ],
   "source": [
    "sentence1 = \"이 영화 너무너무 재미있어요. 인생 최고의 영화입니다. 최고!\"\n",
    "sentence2 = \"평점 1점도 아깝습니다..비추\"\n",
    "predictions = predictor.predict({'document': [sentence1, sentence2]})\n",
    "print('\"Sentence\":', sentence1, '\"Predicted Sentiment\":', predictions[0])\n",
    "print('\"Sentence\":', sentence2, '\"Predicted Sentiment\":', predictions[1])"
   ]
  },
  {
   "cell_type": "markdown",
   "id": "suited-combining",
   "metadata": {},
   "source": [
    "### Extract Embeddings\n",
    "훈련된 predictor를 사용하여 임베딩 벡터에 매핑하는 임베딩을 추출할 수도 있습니다."
   ]
  },
  {
   "cell_type": "code",
   "execution_count": 35,
   "id": "rapid-nashville",
   "metadata": {},
   "outputs": [
    {
     "name": "stdout",
     "output_type": "stream",
     "text": [
      "[[ 0.00364058  0.03059608 -0.08003689 ...  0.10889229  0.0908663\n",
      "  -0.1842409 ]\n",
      " [-0.02480217 -0.01789573 -0.08753858 ...  0.11531632  0.08343364\n",
      "  -0.17648585]\n",
      " [-0.00429124 -0.02888179  0.05131195 ...  0.07422637  0.10903466\n",
      "  -0.15672252]\n",
      " ...\n",
      " [-0.03323803  0.00098329 -0.00266667 ...  0.07073754  0.07711349\n",
      "  -0.162455  ]\n",
      " [ 0.00227197  0.01763633 -0.01963877 ...  0.07209975  0.04332367\n",
      "  -0.12857531]\n",
      " [-0.02679621  0.02273615 -0.0377441  ...  0.06500638  0.10859583\n",
      "  -0.18358707]]\n"
     ]
    }
   ],
   "source": [
    "embeddings = predictor.extract_embedding(test_data)\n",
    "print(embeddings)"
   ]
  },
  {
   "cell_type": "markdown",
   "id": "accurate-processing",
   "metadata": {},
   "source": [
    "TSNE를 사용하여 추출된 임베딩을 시각화합니다. 성능 향상을 위해서는 다국어 모델보다는 한국어 전용 모델로 훈련하는 것이 더 유리합니다."
   ]
  },
  {
   "cell_type": "code",
   "execution_count": 36,
   "id": "advance-applicant",
   "metadata": {},
   "outputs": [
    {
     "data": {
      "text/plain": [
       "<matplotlib.legend.Legend at 0x7f4ed0683b38>"
      ]
     },
     "execution_count": 36,
     "metadata": {},
     "output_type": "execute_result"
    },
    {
     "data": {
      "image/png": "[encoded data removed]",
      "text/plain": [
       "<Figure size 432x288 with 1 Axes>"
      ]
     },
     "metadata": {
      "needs_background": "light"
     },
     "output_type": "display_data"
    }
   ],
   "source": [
    "from sklearn.manifold import TSNE\n",
    "X_embedded = TSNE(n_components=2, random_state=123).fit_transform(embeddings)\n",
    "for val, color in [(0, 'red'), (1, 'blue')]:\n",
    "    idx = (test_data['label'].to_numpy() == val).nonzero()\n",
    "    plt.scatter(X_embedded[idx, 0], X_embedded[idx, 1], c=color, label=f'label={val}')\n",
    "plt.legend(loc='best')"
   ]
  },
  {
   "cell_type": "code",
   "execution_count": null,
   "id": "communist-michigan",
   "metadata": {},
   "outputs": [],
   "source": []
  }
 ],
 "metadata": {
  "kernelspec": {
   "display_name": "conda_pytorch_p36",
   "language": "python",
   "name": "conda_pytorch_p36"
  },
  "language_info": {
   "codemirror_mode": {
    "name": "ipython",
    "version": 3
   },
   "file_extension": ".py",
   "mimetype": "text/x-python",
   "name": "python",
   "nbconvert_exporter": "python",
   "pygments_lexer": "ipython3",
   "version": "3.6.13"
  }
 },
 "nbformat": 4,
 "nbformat_minor": 5
}
