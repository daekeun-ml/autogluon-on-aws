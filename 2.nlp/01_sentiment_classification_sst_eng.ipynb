{
 "cells": [
  {
   "cell_type": "markdown",
   "id": "sound-meaning",
   "metadata": {},
   "source": [
    "# Sentiment Classification for Movie Review Dataset (English)\n",
    "\n",
    "본 핸즈온에서는 영화 리뷰에 대한 감정(0: 부정, 1: 긍정)을 요약한 Stanford Sentiment Treebank (SST) 데이터셋으로 AutoGluon 훈련을 수행합니다."
   ]
  },
  {
   "cell_type": "code",
   "execution_count": 1,
   "id": "distinguished-disorder",
   "metadata": {},
   "outputs": [],
   "source": [
    "import numpy as np\n",
    "import warnings\n",
    "import matplotlib.pyplot as plt\n",
    "warnings.filterwarnings('ignore')\n",
    "np.random.seed(123)"
   ]
  },
  {
   "cell_type": "markdown",
   "id": "executive-applicant",
   "metadata": {},
   "source": [
    "<br>\n",
    "\n",
    "## 1. Data preparation and Training"
   ]
  },
  {
   "cell_type": "code",
   "execution_count": 2,
   "id": "supported-tender",
   "metadata": {},
   "outputs": [],
   "source": [
    "save_path = 'ag-01-sentiment-classifcation-eng'\n",
    "!rm -rf $save_path"
   ]
  },
  {
   "cell_type": "markdown",
   "id": "professional-postage",
   "metadata": {},
   "source": [
    "샘플 데이터셋을 다운로드합니다. parquet와 csv를 지원하며, 원격에 저장된 데이터셋을 다운로드하거나 로컬에서 데이터셋을 직접 로드할 수 있습니다."
   ]
  },
  {
   "cell_type": "code",
   "execution_count": 3,
   "id": "responsible-postcard",
   "metadata": {},
   "outputs": [
    {
     "data": {
      "text/html": [
       "<div>\n",
       "<style scoped>\n",
       "    .dataframe tbody tr th:only-of-type {\n",
       "        vertical-align: middle;\n",
       "    }\n",
       "\n",
       "    .dataframe tbody tr th {\n",
       "        vertical-align: top;\n",
       "    }\n",
       "\n",
       "    .dataframe thead th {\n",
       "        text-align: right;\n",
       "    }\n",
       "</style>\n",
       "<table border=\"1\" class=\"dataframe\">\n",
       "  <thead>\n",
       "    <tr style=\"text-align: right;\">\n",
       "      <th></th>\n",
       "      <th>sentence</th>\n",
       "      <th>label</th>\n",
       "    </tr>\n",
       "  </thead>\n",
       "  <tbody>\n",
       "    <tr>\n",
       "      <th>43787</th>\n",
       "      <td>very pleasing at its best moments</td>\n",
       "      <td>1</td>\n",
       "    </tr>\n",
       "    <tr>\n",
       "      <th>16159</th>\n",
       "      <td>, american chai is enough to make you put away...</td>\n",
       "      <td>0</td>\n",
       "    </tr>\n",
       "    <tr>\n",
       "      <th>59015</th>\n",
       "      <td>too much like an infomercial for ram dass 's l...</td>\n",
       "      <td>0</td>\n",
       "    </tr>\n",
       "    <tr>\n",
       "      <th>5108</th>\n",
       "      <td>a stirring visual sequence</td>\n",
       "      <td>1</td>\n",
       "    </tr>\n",
       "    <tr>\n",
       "      <th>67052</th>\n",
       "      <td>cool visual backmasking</td>\n",
       "      <td>1</td>\n",
       "    </tr>\n",
       "  </tbody>\n",
       "</table>\n",
       "</div>"
      ],
      "text/plain": [
       "                                                sentence  label\n",
       "43787                 very pleasing at its best moments       1\n",
       "16159  , american chai is enough to make you put away...      0\n",
       "59015  too much like an infomercial for ram dass 's l...      0\n",
       "5108                         a stirring visual sequence       1\n",
       "67052                           cool visual backmasking       1"
      ]
     },
     "execution_count": 3,
     "metadata": {},
     "output_type": "execute_result"
    }
   ],
   "source": [
    "from autogluon.core.utils.loaders.load_pd import load\n",
    "train_data = load('https://autogluon-text.s3-accelerate.amazonaws.com/glue/sst/train.parquet')\n",
    "test_data = load('https://autogluon-text.s3-accelerate.amazonaws.com/glue/sst/dev.parquet')\n",
    "subsample_size = 1000  # subsample data for faster demo, try setting this to larger values\n",
    "train_data = train_data.sample(n=subsample_size, random_state=0)\n",
    "train_data.head(5)"
   ]
  },
  {
   "cell_type": "markdown",
   "id": "dominican-inclusion",
   "metadata": {},
   "source": [
    "훈련 지정 시 좀 더 세부적인 하이퍼파라메터 설정이 필요하다면, 사전 정의된 preset을 사용하시면 편리합니다. TextPredictor는 사전 훈련된 BERT, RoBERT, ELECTRA가 내장되어 있으며, 한국어를 비롯한 다국어에 대한 훈련이 필요하면 `multi_cased_bert_base_fuse_late` preset을 사용하시면 됩니다."
   ]
  },
  {
   "cell_type": "code",
   "execution_count": 8,
   "id": "fuzzy-jaguar",
   "metadata": {},
   "outputs": [
    {
     "data": {
      "text/plain": [
       "{'simple_presets': ['default',\n",
       "  'lower_quality_fast_train',\n",
       "  'medium_quality_faster_train',\n",
       "  'best_quality'],\n",
       " 'advanced_presets': ['electra_small_fuse_late',\n",
       "  'electra_base_fuse_late',\n",
       "  'electra_large_fuse_late',\n",
       "  'roberta_base_fuse_late',\n",
       "  'multi_cased_bert_base_fuse_late',\n",
       "  'electra_base_fuse_early',\n",
       "  'electra_base_all_text']}"
      ]
     },
     "execution_count": 8,
     "metadata": {},
     "output_type": "execute_result"
    }
   ],
   "source": [
    "from autogluon.text import TextPredictor, ag_text_presets, list_presets\n",
    "list_presets()"
   ]
  },
  {
   "cell_type": "code",
   "execution_count": 4,
   "id": "robust-import",
   "metadata": {},
   "outputs": [
    {
     "name": "stderr",
     "output_type": "stream",
     "text": [
      "INFO:root:NumPy-shape semantics has been activated in your code. This is required for creating and manipulating scalar and zero-size tensors, which were not supported in MXNet before, as in the official NumPy library. Please DO NOT manually deactivate this semantics while using `mxnet.numpy` and `mxnet.numpy_extension` modules.\n",
      "INFO:autogluon.text.text_prediction.mx.models:The GluonNLP V0 backend is used. We will use 8 cpus and 1 gpus to train each trial.\n"
     ]
    },
    {
     "name": "stdout",
     "output_type": "stream",
     "text": [
      "All Logs will be saved to /home/ec2-user/SageMaker/autogluon-hol/2.nlp/ag-01-sentiment-classifcation-eng/task0/training.log\n"
     ]
    },
    {
     "name": "stderr",
     "output_type": "stream",
     "text": [
      "INFO:root:Fitting and transforming the train data...\n",
      "INFO:root:Done! Preprocessor saved to /home/ec2-user/SageMaker/autogluon-hol/2.nlp/ag-01-sentiment-classifcation-eng/task0/preprocessor.pkl\n",
      "INFO:root:Process dev set...\n",
      "INFO:root:Done!\n",
      "INFO:root:Max length for chunking text: 64, Stochastic chunk: Train-False/Test-False, Test #repeat: 1.\n",
      "INFO:root:#Total Params/Fixed Params=108990466/0\n",
      "Level 15:root:Using gradient accumulation. Global batch size = 128\n",
      "INFO:root:Local training results will be saved to /home/ec2-user/SageMaker/autogluon-hol/2.nlp/ag-01-sentiment-classifcation-eng/task0/results_local.jsonl.\n",
      "Level 15:root:[Iter 1/70, Epoch 0] train loss=9.45e-01, gnorm=8.10e+00, lr=1.43e-05, #samples processed=128, #sample per second=73.50. ETA=2.00min\n",
      "Level 15:root:[Iter 2/70, Epoch 0] train loss=7.89e-01, gnorm=1.14e+01, lr=2.86e-05, #samples processed=128, #sample per second=166.48. ETA=1.42min\n",
      "Level 25:root:[Iter 2/70, Epoch 0] valid f1=7.2026e-01, mcc=1.3177e-02, roc_auc=4.2102e-01, accuracy=5.6500e-01, log_loss=9.6348e-01, time spent=0.313s, total time spent=0.07min. Find new best=True, Find new top-3=True\n",
      "Level 15:root:[Iter 3/70, Epoch 0] train loss=1.13e+00, gnorm=1.39e+01, lr=4.29e-05, #samples processed=128, #sample per second=51.42. ETA=1.86min\n",
      "Level 15:root:[Iter 4/70, Epoch 0] train loss=1.01e+00, gnorm=1.24e+01, lr=5.71e-05, #samples processed=128, #sample per second=187.28. ETA=1.56min\n",
      "Level 25:root:[Iter 4/70, Epoch 0] valid f1=2.6950e-01, mcc=9.2430e-02, roc_auc=6.1560e-01, accuracy=4.8500e-01, log_loss=8.8448e-01, time spent=0.299s, total time spent=0.11min. Find new best=False, Find new top-3=True\n",
      "Level 15:root:[Iter 5/70, Epoch 0] train loss=8.46e-01, gnorm=1.13e+01, lr=7.14e-05, #samples processed=128, #sample per second=79.03. ETA=1.58min\n",
      "Level 15:root:[Iter 6/70, Epoch 0] train loss=7.14e-01, gnorm=4.00e+00, lr=8.57e-05, #samples processed=128, #sample per second=183.81. ETA=1.42min\n",
      "Level 25:root:[Iter 6/70, Epoch 0] valid f1=7.2204e-01, mcc=0.0000e+00, roc_auc=7.0471e-01, accuracy=5.6500e-01, log_loss=8.3710e-01, time spent=0.298s, total time spent=0.19min. Find new best=True, Find new top-3=True\n",
      "Level 15:root:[Iter 7/70, Epoch 0] train loss=9.37e-01, gnorm=9.50e+00, lr=1.00e-04, #samples processed=128, #sample per second=30.76. ETA=1.83min\n",
      "Level 15:root:[Iter 8/70, Epoch 1] train loss=5.64e-01, gnorm=8.05e+00, lr=9.84e-05, #samples processed=128, #sample per second=210.63. ETA=1.65min\n",
      "Level 25:root:[Iter 8/70, Epoch 1] valid f1=5.2830e-01, mcc=3.8369e-01, roc_auc=8.4498e-01, accuracy=6.2500e-01, log_loss=6.2314e-01, time spent=0.307s, total time spent=0.32min. Find new best=True, Find new top-3=True\n",
      "Level 15:root:[Iter 9/70, Epoch 1] train loss=6.58e-01, gnorm=1.16e+01, lr=9.68e-05, #samples processed=128, #sample per second=18.73. ETA=2.22min\n",
      "Level 15:root:[Iter 10/70, Epoch 1] train loss=5.78e-01, gnorm=5.31e+00, lr=9.52e-05, #samples processed=128, #sample per second=209.83. ETA=2.02min\n",
      "Level 25:root:[Iter 10/70, Epoch 1] valid f1=7.6923e-01, mcc=3.6169e-01, roc_auc=8.5770e-01, accuracy=6.7000e-01, log_loss=6.1304e-01, time spent=0.293s, total time spent=0.44min. Find new best=True, Find new top-3=True\n",
      "Level 15:root:[Iter 11/70, Epoch 1] train loss=6.72e-01, gnorm=1.03e+01, lr=9.37e-05, #samples processed=128, #sample per second=18.71. ETA=2.42min\n",
      "Level 15:root:[Iter 12/70, Epoch 1] train loss=5.79e-01, gnorm=7.99e+00, lr=9.21e-05, #samples processed=128, #sample per second=207.66. ETA=2.23min\n",
      "Level 25:root:[Iter 12/70, Epoch 1] valid f1=8.8991e-01, mcc=7.6090e-01, roc_auc=9.3480e-01, accuracy=8.8000e-01, log_loss=3.4736e-01, time spent=0.296s, total time spent=0.56min. Find new best=True, Find new top-3=True\n",
      "Level 15:root:[Iter 13/70, Epoch 1] train loss=4.15e-01, gnorm=1.84e+01, lr=9.05e-05, #samples processed=128, #sample per second=19.18. ETA=2.51min\n",
      "Level 15:root:[Iter 14/70, Epoch 1] train loss=5.40e-01, gnorm=1.17e+01, lr=8.89e-05, #samples processed=128, #sample per second=208.15. ETA=2.33min\n",
      "Level 25:root:[Iter 14/70, Epoch 1] valid f1=8.3744e-01, mcc=6.9232e-01, roc_auc=9.4019e-01, accuracy=8.3500e-01, log_loss=3.9083e-01, time spent=0.305s, total time spent=0.63min. Find new best=False, Find new top-3=True\n",
      "Level 15:root:[Iter 15/70, Epoch 2] train loss=3.38e-01, gnorm=6.11e+00, lr=8.73e-05, #samples processed=128, #sample per second=35.95. ETA=2.35min\n",
      "Level 15:root:[Iter 16/70, Epoch 2] train loss=3.50e-01, gnorm=6.17e+00, lr=8.57e-05, #samples processed=128, #sample per second=205.88. ETA=2.20min\n",
      "Level 25:root:[Iter 16/70, Epoch 2] valid f1=8.5171e-01, mcc=6.3470e-01, roc_auc=9.0713e-01, accuracy=8.0500e-01, log_loss=5.3326e-01, time spent=0.308s, total time spent=0.70min. Find new best=False, Find new top-3=True\n",
      "Level 15:root:[Iter 17/70, Epoch 2] train loss=5.47e-01, gnorm=7.12e+00, lr=8.41e-05, #samples processed=128, #sample per second=35.84. ETA=2.22min\n",
      "Level 15:root:[Iter 18/70, Epoch 2] train loss=2.74e-01, gnorm=4.69e+00, lr=8.25e-05, #samples processed=128, #sample per second=202.98. ETA=2.09min\n",
      "Level 25:root:[Iter 18/70, Epoch 2] valid f1=9.0826e-01, mcc=8.0129e-01, roc_auc=9.6114e-01, accuracy=9.0000e-01, log_loss=2.7421e-01, time spent=0.309s, total time spent=0.83min. Find new best=True, Find new top-3=True\n",
      "Level 15:root:[Iter 19/70, Epoch 2] train loss=2.80e-01, gnorm=3.02e+00, lr=8.10e-05, #samples processed=128, #sample per second=18.71. ETA=2.25min\n",
      "Level 15:root:[Iter 20/70, Epoch 2] train loss=3.48e-01, gnorm=1.16e+01, lr=7.94e-05, #samples processed=128, #sample per second=214.82. ETA=2.12min\n",
      "Level 25:root:[Iter 20/70, Epoch 2] valid f1=9.0476e-01, mcc=8.1115e-01, roc_auc=9.7050e-01, accuracy=9.0000e-01, log_loss=2.7333e-01, time spent=0.298s, total time spent=0.95min. Find new best=True, Find new top-3=True\n",
      "INFO:numexpr.utils:NumExpr defaulting to 8 threads.\n"
     ]
    },
    {
     "data": {
      "image/png": "[encoded data removed]",
      "text/plain": [
       "<Figure size 432x288 with 1 Axes>"
      ]
     },
     "metadata": {
      "needs_background": "light"
     },
     "output_type": "display_data"
    },
    {
     "name": "stderr",
     "output_type": "stream",
     "text": [
      "INFO:root:Training completed. Auto-saving to \"ag-01-sentiment-classifcation-eng/\". For loading the model, you can use `predictor = TextPredictor.load(\"ag-01-sentiment-classifcation-eng/\")`\n"
     ]
    },
    {
     "data": {
      "text/plain": [
       "<autogluon.text.text_prediction.predictor.predictor.TextPredictor at 0x7f50bdc2d588>"
      ]
     },
     "execution_count": 4,
     "metadata": {},
     "output_type": "execute_result"
    }
   ],
   "source": [
    "predictor = TextPredictor(label='label', eval_metric='acc', path=save_path)\n",
    "predictor.fit(train_data, time_limit=60)"
   ]
  },
  {
   "cell_type": "markdown",
   "id": "potential-enlargement",
   "metadata": {},
   "source": [
    "<br>\n",
    "\n",
    "## 2. Evaluation and Prediction"
   ]
  },
  {
   "cell_type": "markdown",
   "id": "considerable-divide",
   "metadata": {},
   "source": [
    "### Evaluation\n",
    "`predictor.evaluation()`를 사용하여 평가를 쉽게 수행할 수 있으며, F1 score 등의 추가 metric도 지정 가능합니다."
   ]
  },
  {
   "cell_type": "code",
   "execution_count": 6,
   "id": "gothic-force",
   "metadata": {},
   "outputs": [
    {
     "name": "stdout",
     "output_type": "stream",
     "text": [
      "{'acc': 0.8876146788990825, 'f1': 0.8844339622641509}\n"
     ]
    }
   ],
   "source": [
    "test_score = predictor.evaluate(test_data, metrics=['acc', 'f1'])\n",
    "print(test_score)"
   ]
  },
  {
   "cell_type": "markdown",
   "id": "tested-trade",
   "metadata": {},
   "source": [
    "### Prediction\n",
    "`predictor.predict()`으로 예측을 수행할 수 있습니다."
   ]
  },
  {
   "cell_type": "code",
   "execution_count": 7,
   "id": "wound-advertiser",
   "metadata": {},
   "outputs": [
    {
     "name": "stdout",
     "output_type": "stream",
     "text": [
      "\"Sentence\": it's a charming and often affecting journey. \"Predicted Sentiment\": 1\n",
      "\"Sentence\": It's slow, very, very, very slow. \"Predicted Sentiment\": 0\n"
     ]
    }
   ],
   "source": [
    "sentence1 = \"it's a charming and often affecting journey.\"\n",
    "sentence2 = \"It's slow, very, very, very slow.\"\n",
    "predictions = predictor.predict({'sentence': [sentence1, sentence2]})\n",
    "print('\"Sentence\":', sentence1, '\"Predicted Sentiment\":', predictions[0])\n",
    "print('\"Sentence\":', sentence2, '\"Predicted Sentiment\":', predictions[1])"
   ]
  },
  {
   "cell_type": "code",
   "execution_count": 9,
   "id": "ordered-heavy",
   "metadata": {},
   "outputs": [
    {
     "name": "stdout",
     "output_type": "stream",
     "text": [
      "\"Sentence\": it's a charming and often affecting journey. \"Predicted Class-Probabilities\": 0    0.017304\n",
      "1    0.919805\n",
      "Name: 0, dtype: float32\n",
      "\"Sentence\": It's slow, very, very, very slow. \"Predicted Class-Probabilities\": 0    0.982696\n",
      "1    0.080195\n",
      "Name: 1, dtype: float32\n"
     ]
    }
   ],
   "source": [
    "probs = predictor.predict_proba({'sentence': [sentence1, sentence2]})\n",
    "print('\"Sentence\":', sentence1, '\"Predicted Class-Probabilities\":', probs[0])\n",
    "print('\"Sentence\":', sentence2, '\"Predicted Class-Probabilities\":', probs[1])"
   ]
  },
  {
   "cell_type": "markdown",
   "id": "committed-switch",
   "metadata": {},
   "source": [
    "전체 데이터셋에 대해 추론을 수행할 수도 있습니다."
   ]
  },
  {
   "cell_type": "code",
   "execution_count": null,
   "id": "embedded-funeral",
   "metadata": {},
   "outputs": [],
   "source": [
    "# test_predictions = predictor.predict(test_data)\n",
    "# test_predictions.head()"
   ]
  },
  {
   "cell_type": "markdown",
   "id": "confirmed-administration",
   "metadata": {},
   "source": [
    "### Save and Load\n",
    "\n",
    "predictor는 `fit()` 함수로 모델 훈련 시에 자동으로 모델을 저장하며, `load()` 함수를 통해 재로드할 수 있습니다. 물론 `save()` 함수로 모델을 저장하는 것도 가능합니다."
   ]
  },
  {
   "cell_type": "code",
   "execution_count": 10,
   "id": "interested-jefferson",
   "metadata": {},
   "outputs": [
    {
     "data": {
      "text/html": [
       "<div>\n",
       "<style scoped>\n",
       "    .dataframe tbody tr th:only-of-type {\n",
       "        vertical-align: middle;\n",
       "    }\n",
       "\n",
       "    .dataframe tbody tr th {\n",
       "        vertical-align: top;\n",
       "    }\n",
       "\n",
       "    .dataframe thead th {\n",
       "        text-align: right;\n",
       "    }\n",
       "</style>\n",
       "<table border=\"1\" class=\"dataframe\">\n",
       "  <thead>\n",
       "    <tr style=\"text-align: right;\">\n",
       "      <th></th>\n",
       "      <th>0</th>\n",
       "      <th>1</th>\n",
       "    </tr>\n",
       "  </thead>\n",
       "  <tbody>\n",
       "    <tr>\n",
       "      <th>0</th>\n",
       "      <td>0.017304</td>\n",
       "      <td>0.982696</td>\n",
       "    </tr>\n",
       "    <tr>\n",
       "      <th>1</th>\n",
       "      <td>0.919805</td>\n",
       "      <td>0.080195</td>\n",
       "    </tr>\n",
       "  </tbody>\n",
       "</table>\n",
       "</div>"
      ],
      "text/plain": [
       "          0         1\n",
       "0  0.017304  0.982696\n",
       "1  0.919805  0.080195"
      ]
     },
     "execution_count": 10,
     "metadata": {},
     "output_type": "execute_result"
    }
   ],
   "source": [
    "loaded_predictor = TextPredictor.load(save_path)\n",
    "loaded_predictor.predict_proba({'sentence': [sentence1, sentence2]})"
   ]
  },
  {
   "cell_type": "markdown",
   "id": "corresponding-scale",
   "metadata": {},
   "source": [
    "### Extract Embeddings\n",
    "훈련된 predictor를 사용하여 임베딩 벡터에 매핑하는 임베딩을 추출할 수도 있습니다."
   ]
  },
  {
   "cell_type": "code",
   "execution_count": 11,
   "id": "premier-norwegian",
   "metadata": {},
   "outputs": [
    {
     "name": "stdout",
     "output_type": "stream",
     "text": [
      "[[-2.8687883e-02  5.3326314e-04  1.1144626e-01 ... -3.7803152e-01\n",
      "   5.5846143e-01  4.1371959e-01]\n",
      " [-4.8518036e-03  5.6912249e-01  2.4588600e-01 ...  1.5590957e-01\n",
      "   2.4007417e-01  1.7444690e-01]\n",
      " [ 2.2508471e-01  2.5632674e-01  4.8000675e-01 ... -1.9713846e-01\n",
      "   5.1324850e-01  4.4378969e-01]\n",
      " ...\n",
      " [ 3.3065796e-01  2.1951196e-01  4.5575449e-01 ... -1.0022802e-01\n",
      "   2.1053088e-01  4.0342742e-01]\n",
      " [ 6.7251277e-01  4.0480185e-01  7.1099810e-02 ...  1.5235341e-01\n",
      "   1.1263622e-01  1.4860499e-01]\n",
      " [-1.4207645e-01  4.3629059e-01  2.9361528e-01 ... -3.1910279e-01\n",
      "   1.4163065e-01  2.7840173e-01]]\n"
     ]
    }
   ],
   "source": [
    "embeddings = predictor.extract_embedding(test_data)\n",
    "print(embeddings)"
   ]
  },
  {
   "cell_type": "markdown",
   "id": "useful-pharmacy",
   "metadata": {},
   "source": [
    "TSNE를 사용하여 추출된 임베딩을 시각화합니다. 두 레이블에 해당하는 두 개의 클러스터가 잘 분포해 있음을 확인할 수 있습니다."
   ]
  },
  {
   "cell_type": "code",
   "execution_count": 12,
   "id": "abroad-driving",
   "metadata": {},
   "outputs": [
    {
     "data": {
      "text/plain": [
       "<matplotlib.legend.Legend at 0x7f4fb81563c8>"
      ]
     },
     "execution_count": 12,
     "metadata": {},
     "output_type": "execute_result"
    },
    {
     "data": {
      "image/png": "[encoded data removed]",
      "text/plain": [
       "<Figure size 432x288 with 1 Axes>"
      ]
     },
     "metadata": {
      "needs_background": "light"
     },
     "output_type": "display_data"
    }
   ],
   "source": [
    "from sklearn.manifold import TSNE\n",
    "X_embedded = TSNE(n_components=2, random_state=123).fit_transform(embeddings)\n",
    "for val, color in [(0, 'red'), (1, 'blue')]:\n",
    "    idx = (test_data['label'].to_numpy() == val).nonzero()\n",
    "    plt.scatter(X_embedded[idx, 0], X_embedded[idx, 1], c=color, label=f'label={val}')\n",
    "plt.legend(loc='best')"
   ]
  }
 ],
 "metadata": {
  "kernelspec": {
   "display_name": "conda_pytorch_p36",
   "language": "python",
   "name": "conda_pytorch_p36"
  },
  "language_info": {
   "codemirror_mode": {
    "name": "ipython",
    "version": 3
   },
   "file_extension": ".py",
   "mimetype": "text/x-python",
   "name": "python",
   "nbconvert_exporter": "python",
   "pygments_lexer": "ipython3",
   "version": "3.6.13"
  }
 },
 "nbformat": 4,
 "nbformat_minor": 5
}
